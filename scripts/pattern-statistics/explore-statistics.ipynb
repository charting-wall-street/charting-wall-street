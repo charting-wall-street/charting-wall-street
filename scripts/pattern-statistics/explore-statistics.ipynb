{
 "cells": [
  {
   "cell_type": "markdown",
   "source": [
    "# Calculating Statistics For Patterns"
   ],
   "metadata": {
    "collapsed": false
   }
  },
  {
   "cell_type": "markdown",
   "source": [
    "## Proportional Test"
   ],
   "metadata": {
    "collapsed": false
   }
  },
  {
   "cell_type": "code",
   "execution_count": 39,
   "metadata": {
    "collapsed": true,
    "ExecuteTime": {
     "end_time": "2023-06-27T07:14:05.943792Z",
     "start_time": "2023-06-27T07:14:05.943396Z"
    }
   },
   "outputs": [],
   "source": [
    "import pandas as pd\n",
    "\n",
    "csv_dir = \"~/Projects/strategy-evaluator/output_range_14/csv\"\n",
    "pattern_name = \"double-bottom\"\n",
    "eval_name = \"barriers\"\n",
    "eval_type = \"wins\"\n",
    "table_name = \"by-range\""
   ]
  },
  {
   "cell_type": "code",
   "execution_count": 40,
   "outputs": [],
   "source": [
    "def load_results(tdir: str, etype: str, rtype: str, estrat: str, pname: str) -> (pd.DataFrame, pd.DataFrame):\n",
    "    wins_table_path = f\"{tdir}/{etype}/{rtype}_{estrat}_{pname}.csv\"\n",
    "    size_table_path = f\"{tdir}/size/{rtype}_{estrat}_{pname}.csv\"\n",
    "    df_pattern_wins = pd.read_csv(wins_table_path, delimiter=',', index_col=0)\n",
    "    df_pattern_size = pd.read_csv(size_table_path, delimiter=',', index_col=0)\n",
    "    return df_pattern_wins, df_pattern_size"
   ],
   "metadata": {
    "collapsed": false,
    "ExecuteTime": {
     "end_time": "2023-06-27T07:14:06.888179Z",
     "start_time": "2023-06-27T07:14:06.879835Z"
    }
   }
  },
  {
   "cell_type": "code",
   "execution_count": 41,
   "outputs": [
    {
     "name": "stdout",
     "output_type": "stream",
     "text": [
      "double-bottom barriers wins by-range\n"
     ]
    },
    {
     "data": {
      "text/plain": "            rng:3.00  rng:5.00  rng:7.00  rng:9.00  rng:11.00  rng:13.00   \nthld:0.015  0.500180  0.501218  0.503796  0.496800   0.500132   0.493449  \\\nthld:0.020  0.512789  0.514397  0.517755  0.512669   0.515911   0.510552   \nthld:0.025  0.518917  0.521786  0.525910  0.521758   0.522343   0.523069   \nthld:0.030  0.522069  0.523470  0.529678  0.524196   0.527199   0.531077   \nthld:0.035  0.524457  0.525278  0.531253  0.531717   0.530744   0.534443   \nthld:0.040  0.525889  0.528551  0.531004  0.534625   0.531611   0.540070   \nthld:0.045  0.526736  0.527873  0.532216  0.535568   0.532853   0.544149   \nthld:0.050  0.526055  0.526834  0.531827  0.536430   0.534850   0.550470   \nthld:0.100  0.532956  0.523075  0.526761  0.523099   0.537118   0.539341   \n\n            rng:15.00  rng:17.00  rng:19.00  rng:21.00  rng:23.00  rng:25.00   \nthld:0.015   0.511189   0.504288   0.503383   0.497094   0.499166   0.491199  \\\nthld:0.020   0.522636   0.521892   0.521716   0.511371   0.511893   0.513406   \nthld:0.025   0.533968   0.536309   0.534283   0.523585   0.523327   0.531047   \nthld:0.030   0.539018   0.541327   0.535117   0.530067   0.533470   0.535043   \nthld:0.035   0.541100   0.543503   0.536568   0.527854   0.531023   0.535933   \nthld:0.040   0.544205   0.549311   0.544995   0.537685   0.536458   0.542174   \nthld:0.045   0.548151   0.550176   0.544288   0.542764   0.543049   0.553756   \nthld:0.050   0.558114   0.551359   0.548849   0.543983   0.551524   0.554433   \nthld:0.100   0.561691   0.575298   0.568733   0.578778   0.584730   0.568233   \n\n            rng:27.00  rng:29.00  rng:31.00  \nthld:0.015   0.511403   0.504930   0.509750  \nthld:0.020   0.532808   0.523757   0.531924  \nthld:0.025   0.547887   0.544013   0.546093  \nthld:0.030   0.555902   0.553034   0.561116  \nthld:0.035   0.546436   0.554537   0.558226  \nthld:0.040   0.558909   0.570016   0.573252  \nthld:0.045   0.571271   0.576733   0.581967  \nthld:0.050   0.573325   0.582197   0.578989  \nthld:0.100   0.600496   0.604651   0.610561  ",
      "text/html": "<div>\n<style scoped>\n    .dataframe tbody tr th:only-of-type {\n        vertical-align: middle;\n    }\n\n    .dataframe tbody tr th {\n        vertical-align: top;\n    }\n\n    .dataframe thead th {\n        text-align: right;\n    }\n</style>\n<table border=\"1\" class=\"dataframe\">\n  <thead>\n    <tr style=\"text-align: right;\">\n      <th></th>\n      <th>rng:3.00</th>\n      <th>rng:5.00</th>\n      <th>rng:7.00</th>\n      <th>rng:9.00</th>\n      <th>rng:11.00</th>\n      <th>rng:13.00</th>\n      <th>rng:15.00</th>\n      <th>rng:17.00</th>\n      <th>rng:19.00</th>\n      <th>rng:21.00</th>\n      <th>rng:23.00</th>\n      <th>rng:25.00</th>\n      <th>rng:27.00</th>\n      <th>rng:29.00</th>\n      <th>rng:31.00</th>\n    </tr>\n  </thead>\n  <tbody>\n    <tr>\n      <th>thld:0.015</th>\n      <td>0.500180</td>\n      <td>0.501218</td>\n      <td>0.503796</td>\n      <td>0.496800</td>\n      <td>0.500132</td>\n      <td>0.493449</td>\n      <td>0.511189</td>\n      <td>0.504288</td>\n      <td>0.503383</td>\n      <td>0.497094</td>\n      <td>0.499166</td>\n      <td>0.491199</td>\n      <td>0.511403</td>\n      <td>0.504930</td>\n      <td>0.509750</td>\n    </tr>\n    <tr>\n      <th>thld:0.020</th>\n      <td>0.512789</td>\n      <td>0.514397</td>\n      <td>0.517755</td>\n      <td>0.512669</td>\n      <td>0.515911</td>\n      <td>0.510552</td>\n      <td>0.522636</td>\n      <td>0.521892</td>\n      <td>0.521716</td>\n      <td>0.511371</td>\n      <td>0.511893</td>\n      <td>0.513406</td>\n      <td>0.532808</td>\n      <td>0.523757</td>\n      <td>0.531924</td>\n    </tr>\n    <tr>\n      <th>thld:0.025</th>\n      <td>0.518917</td>\n      <td>0.521786</td>\n      <td>0.525910</td>\n      <td>0.521758</td>\n      <td>0.522343</td>\n      <td>0.523069</td>\n      <td>0.533968</td>\n      <td>0.536309</td>\n      <td>0.534283</td>\n      <td>0.523585</td>\n      <td>0.523327</td>\n      <td>0.531047</td>\n      <td>0.547887</td>\n      <td>0.544013</td>\n      <td>0.546093</td>\n    </tr>\n    <tr>\n      <th>thld:0.030</th>\n      <td>0.522069</td>\n      <td>0.523470</td>\n      <td>0.529678</td>\n      <td>0.524196</td>\n      <td>0.527199</td>\n      <td>0.531077</td>\n      <td>0.539018</td>\n      <td>0.541327</td>\n      <td>0.535117</td>\n      <td>0.530067</td>\n      <td>0.533470</td>\n      <td>0.535043</td>\n      <td>0.555902</td>\n      <td>0.553034</td>\n      <td>0.561116</td>\n    </tr>\n    <tr>\n      <th>thld:0.035</th>\n      <td>0.524457</td>\n      <td>0.525278</td>\n      <td>0.531253</td>\n      <td>0.531717</td>\n      <td>0.530744</td>\n      <td>0.534443</td>\n      <td>0.541100</td>\n      <td>0.543503</td>\n      <td>0.536568</td>\n      <td>0.527854</td>\n      <td>0.531023</td>\n      <td>0.535933</td>\n      <td>0.546436</td>\n      <td>0.554537</td>\n      <td>0.558226</td>\n    </tr>\n    <tr>\n      <th>thld:0.040</th>\n      <td>0.525889</td>\n      <td>0.528551</td>\n      <td>0.531004</td>\n      <td>0.534625</td>\n      <td>0.531611</td>\n      <td>0.540070</td>\n      <td>0.544205</td>\n      <td>0.549311</td>\n      <td>0.544995</td>\n      <td>0.537685</td>\n      <td>0.536458</td>\n      <td>0.542174</td>\n      <td>0.558909</td>\n      <td>0.570016</td>\n      <td>0.573252</td>\n    </tr>\n    <tr>\n      <th>thld:0.045</th>\n      <td>0.526736</td>\n      <td>0.527873</td>\n      <td>0.532216</td>\n      <td>0.535568</td>\n      <td>0.532853</td>\n      <td>0.544149</td>\n      <td>0.548151</td>\n      <td>0.550176</td>\n      <td>0.544288</td>\n      <td>0.542764</td>\n      <td>0.543049</td>\n      <td>0.553756</td>\n      <td>0.571271</td>\n      <td>0.576733</td>\n      <td>0.581967</td>\n    </tr>\n    <tr>\n      <th>thld:0.050</th>\n      <td>0.526055</td>\n      <td>0.526834</td>\n      <td>0.531827</td>\n      <td>0.536430</td>\n      <td>0.534850</td>\n      <td>0.550470</td>\n      <td>0.558114</td>\n      <td>0.551359</td>\n      <td>0.548849</td>\n      <td>0.543983</td>\n      <td>0.551524</td>\n      <td>0.554433</td>\n      <td>0.573325</td>\n      <td>0.582197</td>\n      <td>0.578989</td>\n    </tr>\n    <tr>\n      <th>thld:0.100</th>\n      <td>0.532956</td>\n      <td>0.523075</td>\n      <td>0.526761</td>\n      <td>0.523099</td>\n      <td>0.537118</td>\n      <td>0.539341</td>\n      <td>0.561691</td>\n      <td>0.575298</td>\n      <td>0.568733</td>\n      <td>0.578778</td>\n      <td>0.584730</td>\n      <td>0.568233</td>\n      <td>0.600496</td>\n      <td>0.604651</td>\n      <td>0.610561</td>\n    </tr>\n  </tbody>\n</table>\n</div>"
     },
     "metadata": {},
     "output_type": "display_data"
    }
   ],
   "source": [
    "pattern_wins, pattern_size = load_results(csv_dir, eval_type, table_name, eval_name, pattern_name)\n",
    "pattern_rate = pattern_wins / pattern_size\n",
    "print(pattern_name, eval_name, eval_type, table_name)\n",
    "display(pattern_rate)"
   ],
   "metadata": {
    "collapsed": false,
    "ExecuteTime": {
     "end_time": "2023-06-27T07:14:07.219188Z",
     "start_time": "2023-06-27T07:14:07.192231Z"
    }
   }
  },
  {
   "cell_type": "code",
   "execution_count": 42,
   "outputs": [
    {
     "name": "stdout",
     "output_type": "stream",
     "text": [
      "double-bottom barriers wins random\n"
     ]
    },
    {
     "data": {
      "text/plain": "            rng:3.00  rng:5.00  rng:7.00  rng:9.00  rng:11.00  rng:13.00   \nthld:0.015  0.475868  0.467467  0.476202  0.473753   0.475778   0.480657  \\\nthld:0.020  0.496511  0.489201  0.493174  0.493065   0.494077   0.497974   \nthld:0.025  0.506881  0.498631  0.505464  0.503800   0.503067   0.508086   \nthld:0.030  0.511441  0.503569  0.511684  0.508205   0.509307   0.512709   \nthld:0.035  0.515377  0.507666  0.516087  0.512907   0.513203   0.518028   \nthld:0.040  0.518964  0.511474  0.520311  0.514987   0.515955   0.522574   \nthld:0.045  0.521010  0.514674  0.522705  0.518093   0.518040   0.526615   \nthld:0.050  0.522719  0.515029  0.525740  0.521227   0.518568   0.527447   \nthld:0.100  0.530857  0.532660  0.538059  0.542744   0.539347   0.538623   \n\n            rng:15.00  rng:17.00  rng:19.00  rng:21.00  rng:23.00  rng:25.00   \nthld:0.015   0.474840   0.471537   0.477283   0.474088   0.474228   0.474687  \\\nthld:0.020   0.493193   0.493419   0.495893   0.496100   0.492736   0.495165   \nthld:0.025   0.503270   0.502245   0.505944   0.506460   0.501823   0.504216   \nthld:0.030   0.509555   0.507319   0.511008   0.512418   0.507272   0.507905   \nthld:0.035   0.516481   0.513092   0.514793   0.516189   0.512707   0.512981   \nthld:0.040   0.519985   0.517275   0.515322   0.518214   0.517597   0.518211   \nthld:0.045   0.522579   0.517721   0.518709   0.520131   0.519651   0.521614   \nthld:0.050   0.522561   0.520343   0.520292   0.520980   0.519637   0.524330   \nthld:0.100   0.537935   0.534317   0.531822   0.531417   0.537816   0.537633   \n\n            rng:27.00  rng:29.00  rng:31.00  \nthld:0.015   0.475812   0.473262   0.474721  \nthld:0.020   0.494149   0.490277   0.495409  \nthld:0.025   0.504469   0.501891   0.505679  \nthld:0.030   0.510710   0.508824   0.511445  \nthld:0.035   0.514487   0.513381   0.516280  \nthld:0.040   0.517803   0.517337   0.519229  \nthld:0.045   0.521409   0.519614   0.520276  \nthld:0.050   0.523177   0.520977   0.519682  \nthld:0.100   0.530244   0.536036   0.525109  ",
      "text/html": "<div>\n<style scoped>\n    .dataframe tbody tr th:only-of-type {\n        vertical-align: middle;\n    }\n\n    .dataframe tbody tr th {\n        vertical-align: top;\n    }\n\n    .dataframe thead th {\n        text-align: right;\n    }\n</style>\n<table border=\"1\" class=\"dataframe\">\n  <thead>\n    <tr style=\"text-align: right;\">\n      <th></th>\n      <th>rng:3.00</th>\n      <th>rng:5.00</th>\n      <th>rng:7.00</th>\n      <th>rng:9.00</th>\n      <th>rng:11.00</th>\n      <th>rng:13.00</th>\n      <th>rng:15.00</th>\n      <th>rng:17.00</th>\n      <th>rng:19.00</th>\n      <th>rng:21.00</th>\n      <th>rng:23.00</th>\n      <th>rng:25.00</th>\n      <th>rng:27.00</th>\n      <th>rng:29.00</th>\n      <th>rng:31.00</th>\n    </tr>\n  </thead>\n  <tbody>\n    <tr>\n      <th>thld:0.015</th>\n      <td>0.475868</td>\n      <td>0.467467</td>\n      <td>0.476202</td>\n      <td>0.473753</td>\n      <td>0.475778</td>\n      <td>0.480657</td>\n      <td>0.474840</td>\n      <td>0.471537</td>\n      <td>0.477283</td>\n      <td>0.474088</td>\n      <td>0.474228</td>\n      <td>0.474687</td>\n      <td>0.475812</td>\n      <td>0.473262</td>\n      <td>0.474721</td>\n    </tr>\n    <tr>\n      <th>thld:0.020</th>\n      <td>0.496511</td>\n      <td>0.489201</td>\n      <td>0.493174</td>\n      <td>0.493065</td>\n      <td>0.494077</td>\n      <td>0.497974</td>\n      <td>0.493193</td>\n      <td>0.493419</td>\n      <td>0.495893</td>\n      <td>0.496100</td>\n      <td>0.492736</td>\n      <td>0.495165</td>\n      <td>0.494149</td>\n      <td>0.490277</td>\n      <td>0.495409</td>\n    </tr>\n    <tr>\n      <th>thld:0.025</th>\n      <td>0.506881</td>\n      <td>0.498631</td>\n      <td>0.505464</td>\n      <td>0.503800</td>\n      <td>0.503067</td>\n      <td>0.508086</td>\n      <td>0.503270</td>\n      <td>0.502245</td>\n      <td>0.505944</td>\n      <td>0.506460</td>\n      <td>0.501823</td>\n      <td>0.504216</td>\n      <td>0.504469</td>\n      <td>0.501891</td>\n      <td>0.505679</td>\n    </tr>\n    <tr>\n      <th>thld:0.030</th>\n      <td>0.511441</td>\n      <td>0.503569</td>\n      <td>0.511684</td>\n      <td>0.508205</td>\n      <td>0.509307</td>\n      <td>0.512709</td>\n      <td>0.509555</td>\n      <td>0.507319</td>\n      <td>0.511008</td>\n      <td>0.512418</td>\n      <td>0.507272</td>\n      <td>0.507905</td>\n      <td>0.510710</td>\n      <td>0.508824</td>\n      <td>0.511445</td>\n    </tr>\n    <tr>\n      <th>thld:0.035</th>\n      <td>0.515377</td>\n      <td>0.507666</td>\n      <td>0.516087</td>\n      <td>0.512907</td>\n      <td>0.513203</td>\n      <td>0.518028</td>\n      <td>0.516481</td>\n      <td>0.513092</td>\n      <td>0.514793</td>\n      <td>0.516189</td>\n      <td>0.512707</td>\n      <td>0.512981</td>\n      <td>0.514487</td>\n      <td>0.513381</td>\n      <td>0.516280</td>\n    </tr>\n    <tr>\n      <th>thld:0.040</th>\n      <td>0.518964</td>\n      <td>0.511474</td>\n      <td>0.520311</td>\n      <td>0.514987</td>\n      <td>0.515955</td>\n      <td>0.522574</td>\n      <td>0.519985</td>\n      <td>0.517275</td>\n      <td>0.515322</td>\n      <td>0.518214</td>\n      <td>0.517597</td>\n      <td>0.518211</td>\n      <td>0.517803</td>\n      <td>0.517337</td>\n      <td>0.519229</td>\n    </tr>\n    <tr>\n      <th>thld:0.045</th>\n      <td>0.521010</td>\n      <td>0.514674</td>\n      <td>0.522705</td>\n      <td>0.518093</td>\n      <td>0.518040</td>\n      <td>0.526615</td>\n      <td>0.522579</td>\n      <td>0.517721</td>\n      <td>0.518709</td>\n      <td>0.520131</td>\n      <td>0.519651</td>\n      <td>0.521614</td>\n      <td>0.521409</td>\n      <td>0.519614</td>\n      <td>0.520276</td>\n    </tr>\n    <tr>\n      <th>thld:0.050</th>\n      <td>0.522719</td>\n      <td>0.515029</td>\n      <td>0.525740</td>\n      <td>0.521227</td>\n      <td>0.518568</td>\n      <td>0.527447</td>\n      <td>0.522561</td>\n      <td>0.520343</td>\n      <td>0.520292</td>\n      <td>0.520980</td>\n      <td>0.519637</td>\n      <td>0.524330</td>\n      <td>0.523177</td>\n      <td>0.520977</td>\n      <td>0.519682</td>\n    </tr>\n    <tr>\n      <th>thld:0.100</th>\n      <td>0.530857</td>\n      <td>0.532660</td>\n      <td>0.538059</td>\n      <td>0.542744</td>\n      <td>0.539347</td>\n      <td>0.538623</td>\n      <td>0.537935</td>\n      <td>0.534317</td>\n      <td>0.531822</td>\n      <td>0.531417</td>\n      <td>0.537816</td>\n      <td>0.537633</td>\n      <td>0.530244</td>\n      <td>0.536036</td>\n      <td>0.525109</td>\n    </tr>\n  </tbody>\n</table>\n</div>"
     },
     "metadata": {},
     "output_type": "display_data"
    }
   ],
   "source": [
    "random_wins, random_size = load_results(csv_dir, eval_type, table_name, eval_name, \"random\")\n",
    "random_rate = random_wins / random_size\n",
    "print(pattern_name, eval_name, eval_type, \"random\")\n",
    "display(random_rate)"
   ],
   "metadata": {
    "collapsed": false,
    "ExecuteTime": {
     "end_time": "2023-06-27T07:14:07.607190Z",
     "start_time": "2023-06-27T07:14:07.575174Z"
    }
   }
  },
  {
   "cell_type": "code",
   "execution_count": 43,
   "outputs": [
    {
     "data": {
      "text/plain": "            rng:3.00  rng:5.00  rng:7.00  rng:9.00  rng:11.00  rng:13.00   \nthld:0.015  0.024312  0.033750  0.027594  0.023047   0.024354   0.012793  \\\nthld:0.020  0.016278  0.025196  0.024581  0.019604   0.021834   0.012578   \nthld:0.025  0.012036  0.023155  0.020446  0.017958   0.019276   0.014983   \nthld:0.030  0.010628  0.019901  0.017995  0.015991   0.017892   0.018368   \nthld:0.035  0.009080  0.017612  0.015166  0.018810   0.017541   0.016415   \nthld:0.040  0.006924  0.017077  0.010694  0.019638   0.015656   0.017496   \nthld:0.045  0.005726  0.013200  0.009511  0.017475   0.014813   0.017534   \nthld:0.050  0.003336  0.011805  0.006087  0.015204   0.016282   0.023023   \nthld:0.100  0.002100 -0.009585 -0.011298 -0.019645  -0.002229   0.000718   \n\n            rng:15.00  rng:17.00  rng:19.00  rng:21.00  rng:23.00  rng:25.00   \nthld:0.015   0.036349   0.032751   0.026100   0.023006   0.024938   0.016512  \\\nthld:0.020   0.029443   0.028473   0.025823   0.015271   0.019157   0.018240   \nthld:0.025   0.030698   0.034064   0.028339   0.017125   0.021504   0.026831   \nthld:0.030   0.029463   0.034009   0.024109   0.017649   0.026199   0.027138   \nthld:0.035   0.024619   0.030411   0.021776   0.011665   0.018316   0.022951   \nthld:0.040   0.024220   0.032036   0.029673   0.019471   0.018861   0.023963   \nthld:0.045   0.025572   0.032455   0.025579   0.022633   0.023398   0.032141   \nthld:0.050   0.035552   0.031016   0.028557   0.023004   0.031887   0.030103   \nthld:0.100   0.023756   0.040981   0.036911   0.047361   0.046914   0.030600   \n\n            rng:27.00  rng:29.00  rng:31.00  \nthld:0.015   0.035590   0.031668   0.035030  \nthld:0.020   0.038660   0.033480   0.036515  \nthld:0.025   0.043418   0.042122   0.040414  \nthld:0.030   0.045192   0.044210   0.049672  \nthld:0.035   0.031949   0.041156   0.041947  \nthld:0.040   0.041107   0.052679   0.054023  \nthld:0.045   0.049862   0.057119   0.061691  \nthld:0.050   0.050148   0.061220   0.059307  \nthld:0.100   0.070252   0.068615   0.085452  ",
      "text/html": "<div>\n<style scoped>\n    .dataframe tbody tr th:only-of-type {\n        vertical-align: middle;\n    }\n\n    .dataframe tbody tr th {\n        vertical-align: top;\n    }\n\n    .dataframe thead th {\n        text-align: right;\n    }\n</style>\n<table border=\"1\" class=\"dataframe\">\n  <thead>\n    <tr style=\"text-align: right;\">\n      <th></th>\n      <th>rng:3.00</th>\n      <th>rng:5.00</th>\n      <th>rng:7.00</th>\n      <th>rng:9.00</th>\n      <th>rng:11.00</th>\n      <th>rng:13.00</th>\n      <th>rng:15.00</th>\n      <th>rng:17.00</th>\n      <th>rng:19.00</th>\n      <th>rng:21.00</th>\n      <th>rng:23.00</th>\n      <th>rng:25.00</th>\n      <th>rng:27.00</th>\n      <th>rng:29.00</th>\n      <th>rng:31.00</th>\n    </tr>\n  </thead>\n  <tbody>\n    <tr>\n      <th>thld:0.015</th>\n      <td>0.024312</td>\n      <td>0.033750</td>\n      <td>0.027594</td>\n      <td>0.023047</td>\n      <td>0.024354</td>\n      <td>0.012793</td>\n      <td>0.036349</td>\n      <td>0.032751</td>\n      <td>0.026100</td>\n      <td>0.023006</td>\n      <td>0.024938</td>\n      <td>0.016512</td>\n      <td>0.035590</td>\n      <td>0.031668</td>\n      <td>0.035030</td>\n    </tr>\n    <tr>\n      <th>thld:0.020</th>\n      <td>0.016278</td>\n      <td>0.025196</td>\n      <td>0.024581</td>\n      <td>0.019604</td>\n      <td>0.021834</td>\n      <td>0.012578</td>\n      <td>0.029443</td>\n      <td>0.028473</td>\n      <td>0.025823</td>\n      <td>0.015271</td>\n      <td>0.019157</td>\n      <td>0.018240</td>\n      <td>0.038660</td>\n      <td>0.033480</td>\n      <td>0.036515</td>\n    </tr>\n    <tr>\n      <th>thld:0.025</th>\n      <td>0.012036</td>\n      <td>0.023155</td>\n      <td>0.020446</td>\n      <td>0.017958</td>\n      <td>0.019276</td>\n      <td>0.014983</td>\n      <td>0.030698</td>\n      <td>0.034064</td>\n      <td>0.028339</td>\n      <td>0.017125</td>\n      <td>0.021504</td>\n      <td>0.026831</td>\n      <td>0.043418</td>\n      <td>0.042122</td>\n      <td>0.040414</td>\n    </tr>\n    <tr>\n      <th>thld:0.030</th>\n      <td>0.010628</td>\n      <td>0.019901</td>\n      <td>0.017995</td>\n      <td>0.015991</td>\n      <td>0.017892</td>\n      <td>0.018368</td>\n      <td>0.029463</td>\n      <td>0.034009</td>\n      <td>0.024109</td>\n      <td>0.017649</td>\n      <td>0.026199</td>\n      <td>0.027138</td>\n      <td>0.045192</td>\n      <td>0.044210</td>\n      <td>0.049672</td>\n    </tr>\n    <tr>\n      <th>thld:0.035</th>\n      <td>0.009080</td>\n      <td>0.017612</td>\n      <td>0.015166</td>\n      <td>0.018810</td>\n      <td>0.017541</td>\n      <td>0.016415</td>\n      <td>0.024619</td>\n      <td>0.030411</td>\n      <td>0.021776</td>\n      <td>0.011665</td>\n      <td>0.018316</td>\n      <td>0.022951</td>\n      <td>0.031949</td>\n      <td>0.041156</td>\n      <td>0.041947</td>\n    </tr>\n    <tr>\n      <th>thld:0.040</th>\n      <td>0.006924</td>\n      <td>0.017077</td>\n      <td>0.010694</td>\n      <td>0.019638</td>\n      <td>0.015656</td>\n      <td>0.017496</td>\n      <td>0.024220</td>\n      <td>0.032036</td>\n      <td>0.029673</td>\n      <td>0.019471</td>\n      <td>0.018861</td>\n      <td>0.023963</td>\n      <td>0.041107</td>\n      <td>0.052679</td>\n      <td>0.054023</td>\n    </tr>\n    <tr>\n      <th>thld:0.045</th>\n      <td>0.005726</td>\n      <td>0.013200</td>\n      <td>0.009511</td>\n      <td>0.017475</td>\n      <td>0.014813</td>\n      <td>0.017534</td>\n      <td>0.025572</td>\n      <td>0.032455</td>\n      <td>0.025579</td>\n      <td>0.022633</td>\n      <td>0.023398</td>\n      <td>0.032141</td>\n      <td>0.049862</td>\n      <td>0.057119</td>\n      <td>0.061691</td>\n    </tr>\n    <tr>\n      <th>thld:0.050</th>\n      <td>0.003336</td>\n      <td>0.011805</td>\n      <td>0.006087</td>\n      <td>0.015204</td>\n      <td>0.016282</td>\n      <td>0.023023</td>\n      <td>0.035552</td>\n      <td>0.031016</td>\n      <td>0.028557</td>\n      <td>0.023004</td>\n      <td>0.031887</td>\n      <td>0.030103</td>\n      <td>0.050148</td>\n      <td>0.061220</td>\n      <td>0.059307</td>\n    </tr>\n    <tr>\n      <th>thld:0.100</th>\n      <td>0.002100</td>\n      <td>-0.009585</td>\n      <td>-0.011298</td>\n      <td>-0.019645</td>\n      <td>-0.002229</td>\n      <td>0.000718</td>\n      <td>0.023756</td>\n      <td>0.040981</td>\n      <td>0.036911</td>\n      <td>0.047361</td>\n      <td>0.046914</td>\n      <td>0.030600</td>\n      <td>0.070252</td>\n      <td>0.068615</td>\n      <td>0.085452</td>\n    </tr>\n  </tbody>\n</table>\n</div>"
     },
     "metadata": {},
     "output_type": "display_data"
    }
   ],
   "source": [
    "df_difference = pattern_rate - random_rate\n",
    "display(df_difference)"
   ],
   "metadata": {
    "collapsed": false,
    "ExecuteTime": {
     "end_time": "2023-06-27T07:14:08.074748Z",
     "start_time": "2023-06-27T07:14:08.070596Z"
    }
   }
  },
  {
   "cell_type": "code",
   "execution_count": 44,
   "outputs": [
    {
     "data": {
      "text/plain": "            rng:3.00  rng:5.00  rng:7.00  rng:9.00 rng:11.00 rng:13.00   \nthld:0.015       0.0       0.0       0.0       0.0       0.0  0.013712  \\\nthld:0.020       0.0       0.0       0.0  0.000003  0.000004  0.017563   \nthld:0.025  0.000016       0.0       0.0  0.000032  0.000075  0.006177   \nthld:0.030  0.000232       0.0  0.000004   0.00037  0.000433  0.001336   \nthld:0.035  0.002542  0.000001   0.00022  0.000068   0.00103  0.006403   \nthld:0.040  0.028192  0.000005  0.013602  0.000083  0.005438  0.005853   \nthld:0.045  0.084056  0.000791  0.037822  0.000978  0.013289  0.009231   \nthld:0.050   0.34078  0.004618  0.208795  0.006946  0.010634  0.001317   \nthld:0.100  0.732043   0.20312  0.203623  0.061242  0.851839  0.958364   \n\n           rng:15.00 rng:17.00 rng:19.00 rng:21.00 rng:23.00 rng:25.00   \nthld:0.015       0.0       0.0  0.000145  0.001923  0.001891  0.054266  \\\nthld:0.020  0.000001   0.00001   0.00024  0.043665  0.019321  0.036962   \nthld:0.025       0.0       0.0  0.000096  0.029017  0.011274  0.003154   \nthld:0.030  0.000004  0.000001  0.001534  0.031738  0.003217  0.004477   \nthld:0.035  0.000232  0.000037  0.006763  0.178019  0.051627  0.022805   \nthld:0.040  0.000624  0.000042   0.00052  0.035098  0.058693   0.02557   \nthld:0.045  0.000682  0.000104  0.005119  0.021803  0.027106   0.00478   \nthld:0.050  0.000009  0.000499  0.003401  0.029413  0.004947  0.013347   \nthld:0.100  0.122104    0.0163  0.050911  0.021184  0.033064  0.203038   \n\n           rng:27.00 rng:29.00 rng:31.00  \nthld:0.015  0.000093   0.00101  0.000533  \nthld:0.020  0.000034  0.000683   0.00041  \nthld:0.025  0.000007  0.000038  0.000165  \nthld:0.030  0.000008  0.000037   0.00001  \nthld:0.035  0.002767  0.000255  0.000383  \nthld:0.040  0.000282  0.000011  0.000018  \nthld:0.045  0.000035  0.000007  0.000004  \nthld:0.050  0.000097  0.000008  0.000035  \nthld:0.100  0.005476  0.011902  0.003276  ",
      "text/html": "<div>\n<style scoped>\n    .dataframe tbody tr th:only-of-type {\n        vertical-align: middle;\n    }\n\n    .dataframe tbody tr th {\n        vertical-align: top;\n    }\n\n    .dataframe thead th {\n        text-align: right;\n    }\n</style>\n<table border=\"1\" class=\"dataframe\">\n  <thead>\n    <tr style=\"text-align: right;\">\n      <th></th>\n      <th>rng:3.00</th>\n      <th>rng:5.00</th>\n      <th>rng:7.00</th>\n      <th>rng:9.00</th>\n      <th>rng:11.00</th>\n      <th>rng:13.00</th>\n      <th>rng:15.00</th>\n      <th>rng:17.00</th>\n      <th>rng:19.00</th>\n      <th>rng:21.00</th>\n      <th>rng:23.00</th>\n      <th>rng:25.00</th>\n      <th>rng:27.00</th>\n      <th>rng:29.00</th>\n      <th>rng:31.00</th>\n    </tr>\n  </thead>\n  <tbody>\n    <tr>\n      <th>thld:0.015</th>\n      <td>0.0</td>\n      <td>0.0</td>\n      <td>0.0</td>\n      <td>0.0</td>\n      <td>0.0</td>\n      <td>0.013712</td>\n      <td>0.0</td>\n      <td>0.0</td>\n      <td>0.000145</td>\n      <td>0.001923</td>\n      <td>0.001891</td>\n      <td>0.054266</td>\n      <td>0.000093</td>\n      <td>0.00101</td>\n      <td>0.000533</td>\n    </tr>\n    <tr>\n      <th>thld:0.020</th>\n      <td>0.0</td>\n      <td>0.0</td>\n      <td>0.0</td>\n      <td>0.000003</td>\n      <td>0.000004</td>\n      <td>0.017563</td>\n      <td>0.000001</td>\n      <td>0.00001</td>\n      <td>0.00024</td>\n      <td>0.043665</td>\n      <td>0.019321</td>\n      <td>0.036962</td>\n      <td>0.000034</td>\n      <td>0.000683</td>\n      <td>0.00041</td>\n    </tr>\n    <tr>\n      <th>thld:0.025</th>\n      <td>0.000016</td>\n      <td>0.0</td>\n      <td>0.0</td>\n      <td>0.000032</td>\n      <td>0.000075</td>\n      <td>0.006177</td>\n      <td>0.0</td>\n      <td>0.0</td>\n      <td>0.000096</td>\n      <td>0.029017</td>\n      <td>0.011274</td>\n      <td>0.003154</td>\n      <td>0.000007</td>\n      <td>0.000038</td>\n      <td>0.000165</td>\n    </tr>\n    <tr>\n      <th>thld:0.030</th>\n      <td>0.000232</td>\n      <td>0.0</td>\n      <td>0.000004</td>\n      <td>0.00037</td>\n      <td>0.000433</td>\n      <td>0.001336</td>\n      <td>0.000004</td>\n      <td>0.000001</td>\n      <td>0.001534</td>\n      <td>0.031738</td>\n      <td>0.003217</td>\n      <td>0.004477</td>\n      <td>0.000008</td>\n      <td>0.000037</td>\n      <td>0.00001</td>\n    </tr>\n    <tr>\n      <th>thld:0.035</th>\n      <td>0.002542</td>\n      <td>0.000001</td>\n      <td>0.00022</td>\n      <td>0.000068</td>\n      <td>0.00103</td>\n      <td>0.006403</td>\n      <td>0.000232</td>\n      <td>0.000037</td>\n      <td>0.006763</td>\n      <td>0.178019</td>\n      <td>0.051627</td>\n      <td>0.022805</td>\n      <td>0.002767</td>\n      <td>0.000255</td>\n      <td>0.000383</td>\n    </tr>\n    <tr>\n      <th>thld:0.040</th>\n      <td>0.028192</td>\n      <td>0.000005</td>\n      <td>0.013602</td>\n      <td>0.000083</td>\n      <td>0.005438</td>\n      <td>0.005853</td>\n      <td>0.000624</td>\n      <td>0.000042</td>\n      <td>0.00052</td>\n      <td>0.035098</td>\n      <td>0.058693</td>\n      <td>0.02557</td>\n      <td>0.000282</td>\n      <td>0.000011</td>\n      <td>0.000018</td>\n    </tr>\n    <tr>\n      <th>thld:0.045</th>\n      <td>0.084056</td>\n      <td>0.000791</td>\n      <td>0.037822</td>\n      <td>0.000978</td>\n      <td>0.013289</td>\n      <td>0.009231</td>\n      <td>0.000682</td>\n      <td>0.000104</td>\n      <td>0.005119</td>\n      <td>0.021803</td>\n      <td>0.027106</td>\n      <td>0.00478</td>\n      <td>0.000035</td>\n      <td>0.000007</td>\n      <td>0.000004</td>\n    </tr>\n    <tr>\n      <th>thld:0.050</th>\n      <td>0.34078</td>\n      <td>0.004618</td>\n      <td>0.208795</td>\n      <td>0.006946</td>\n      <td>0.010634</td>\n      <td>0.001317</td>\n      <td>0.000009</td>\n      <td>0.000499</td>\n      <td>0.003401</td>\n      <td>0.029413</td>\n      <td>0.004947</td>\n      <td>0.013347</td>\n      <td>0.000097</td>\n      <td>0.000008</td>\n      <td>0.000035</td>\n    </tr>\n    <tr>\n      <th>thld:0.100</th>\n      <td>0.732043</td>\n      <td>0.20312</td>\n      <td>0.203623</td>\n      <td>0.061242</td>\n      <td>0.851839</td>\n      <td>0.958364</td>\n      <td>0.122104</td>\n      <td>0.0163</td>\n      <td>0.050911</td>\n      <td>0.021184</td>\n      <td>0.033064</td>\n      <td>0.203038</td>\n      <td>0.005476</td>\n      <td>0.011902</td>\n      <td>0.003276</td>\n    </tr>\n  </tbody>\n</table>\n</div>"
     },
     "metadata": {},
     "output_type": "display_data"
    }
   ],
   "source": [
    "from statsmodels.stats.proportion import proportions_ztest\n",
    "from statsmodels.stats.multitest import multipletests\n",
    "\n",
    "# Create a new empty DataFrame with the same dimensions as the original DataFrame\n",
    "stat_table = pd.DataFrame(index=pattern_wins.index, columns=pattern_wins.columns)\n",
    "p_table = stat_table.copy()\n",
    "\n",
    "# Create an empty list to store the p-values\n",
    "p_values = []\n",
    "\n",
    "# Iterate over each cell in the DataFrame\n",
    "for i in range(pattern_wins.shape[0]):\n",
    "    for j in range(pattern_wins.shape[1]):\n",
    "\n",
    "        # Get the values for the corresponding cell in the original DataFrames\n",
    "        count_pattern = pattern_wins.iloc[i, j]\n",
    "        nobs_pattern = pattern_size.iloc[i, j]\n",
    "        count_random = random_wins.iloc[i, j]\n",
    "        nobs_random = random_size.iloc[i, j]\n",
    "\n",
    "        # Perform the evaluation using proportions_ztest\n",
    "        stat, pval = proportions_ztest([count_pattern, count_random], [nobs_pattern, nobs_random])\n",
    "\n",
    "        # Assign the test statistic and p-value to the new table\n",
    "        stat_table.iloc[i, j] = (round(count_pattern/nobs_pattern,2), round(count_random/nobs_random,2))\n",
    "        p_table.iloc[i, j] = pval\n",
    "\n",
    "        # Append the p-value to the list\n",
    "        p_values.append(pval)\n",
    "\n",
    "# Print the new table\n",
    "display(p_table)"
   ],
   "metadata": {
    "collapsed": false,
    "ExecuteTime": {
     "end_time": "2023-06-27T07:14:08.760347Z",
     "start_time": "2023-06-27T07:14:08.756776Z"
    }
   }
  },
  {
   "cell_type": "code",
   "execution_count": 45,
   "outputs": [
    {
     "data": {
      "text/plain": "array([ True,  True,  True,  True,  True, False,  True,  True,  True,\n       False, False, False,  True, False, False,  True,  True,  True,\n        True,  True, False,  True,  True,  True, False, False, False,\n        True, False, False,  True,  True,  True,  True,  True, False,\n        True,  True,  True, False, False, False,  True,  True,  True,\n        True,  True,  True,  True, False, False,  True,  True, False,\n       False, False, False,  True,  True,  True, False,  True,  True,\n        True, False, False,  True,  True, False, False, False, False,\n       False,  True, False, False,  True, False,  True, False, False,\n       False,  True, False, False, False, False,  True,  True,  True,\n       False, False, False, False, False, False, False,  True, False,\n       False, False, False,  True,  True,  True, False, False, False,\n       False, False, False,  True, False, False, False, False, False,\n        True,  True,  True, False, False, False, False, False, False,\n       False, False, False, False, False, False, False, False, False])"
     },
     "execution_count": 45,
     "metadata": {},
     "output_type": "execute_result"
    }
   ],
   "source": [
    "# Perform the Bonferroni correction\n",
    "rejected, corrected_p_values, _, _ = multipletests(p_values, method='bonferroni')\n",
    "rejected"
   ],
   "metadata": {
    "collapsed": false,
    "ExecuteTime": {
     "end_time": "2023-06-27T07:14:09.251448Z",
     "start_time": "2023-06-27T07:14:09.233168Z"
    }
   }
  },
  {
   "cell_type": "code",
   "execution_count": 45,
   "outputs": [],
   "source": [],
   "metadata": {
    "collapsed": false,
    "ExecuteTime": {
     "end_time": "2023-06-27T07:14:09.768724Z",
     "start_time": "2023-06-27T07:14:09.764246Z"
    }
   }
  },
  {
   "cell_type": "code",
   "execution_count": 46,
   "outputs": [
    {
     "data": {
      "text/plain": "            rng:3.00  rng:5.00  rng:7.00  rng:9.00 rng:11.00 rng:13.00   \nthld:0.015  0.048643  0.067547  0.055206  0.046117  0.048727  0.025594  \\\nthld:0.020  0.032559  0.050397  0.049169  0.039212  0.043675  0.025158   \nthld:0.025  0.024081  0.046324  0.040914  0.035929  0.038567  0.029982   \nthld:0.030  0.021269   0.03982  0.036022  0.032001  0.035811  0.036774   \nthld:0.035  0.018175  0.035246  0.030367   0.03766  0.035118  0.032877   \nthld:0.040  0.013862  0.034184  0.021416  0.039328  0.031349  0.035062   \nthld:0.045  0.011465  0.026424  0.019051  0.035003  0.029666  0.035158   \nthld:0.050  0.006679   0.02363  0.012193  0.030459  0.032612   0.04619   \nthld:0.100  0.004208   -0.0192 -0.022644 -0.039379  -0.00447  0.001439   \n\n           rng:15.00 rng:17.00 rng:19.00 rng:21.00 rng:23.00 rng:25.00   \nthld:0.015  0.072721  0.065533  0.052215  0.046035  0.049898  0.033045  \\\nthld:0.020  0.058901  0.056961   0.05166  0.030543  0.038317  0.036484   \nthld:0.025  0.061449  0.068193  0.056731  0.034267  0.043024  0.053702   \nthld:0.030  0.059005  0.068111  0.048274  0.035332  0.052447  0.054333   \nthld:0.035  0.049324   0.06093  0.043612  0.023353   0.03667  0.045962   \nthld:0.040  0.048544  0.064225  0.059462  0.039006  0.037779  0.048018   \nthld:0.045  0.051279  0.065071  0.051266   0.04536  0.046893  0.064477   \nthld:0.050  0.071353  0.062203  0.057259  0.046109  0.063947  0.060402   \nthld:0.100  0.047755  0.082483  0.074215  0.095339  0.094578  0.061556   \n\n           rng:27.00 rng:29.00 rng:31.00  \nthld:0.015  0.071201  0.063361  0.070082  \nthld:0.020  0.077367  0.066978  0.073073  \nthld:0.025  0.086983  0.084358  0.080959  \nthld:0.030  0.090616  0.088619  0.099648  \nthld:0.035  0.064028  0.082526  0.084152  \nthld:0.040  0.082481  0.105813  0.108566  \nthld:0.045  0.100198  0.114836  0.124115  \nthld:0.050  0.100811  0.123178  0.119269  \nthld:0.100  0.141846  0.138726  0.172725  ",
      "text/html": "<div>\n<style scoped>\n    .dataframe tbody tr th:only-of-type {\n        vertical-align: middle;\n    }\n\n    .dataframe tbody tr th {\n        vertical-align: top;\n    }\n\n    .dataframe thead th {\n        text-align: right;\n    }\n</style>\n<table border=\"1\" class=\"dataframe\">\n  <thead>\n    <tr style=\"text-align: right;\">\n      <th></th>\n      <th>rng:3.00</th>\n      <th>rng:5.00</th>\n      <th>rng:7.00</th>\n      <th>rng:9.00</th>\n      <th>rng:11.00</th>\n      <th>rng:13.00</th>\n      <th>rng:15.00</th>\n      <th>rng:17.00</th>\n      <th>rng:19.00</th>\n      <th>rng:21.00</th>\n      <th>rng:23.00</th>\n      <th>rng:25.00</th>\n      <th>rng:27.00</th>\n      <th>rng:29.00</th>\n      <th>rng:31.00</th>\n    </tr>\n  </thead>\n  <tbody>\n    <tr>\n      <th>thld:0.015</th>\n      <td>0.048643</td>\n      <td>0.067547</td>\n      <td>0.055206</td>\n      <td>0.046117</td>\n      <td>0.048727</td>\n      <td>0.025594</td>\n      <td>0.072721</td>\n      <td>0.065533</td>\n      <td>0.052215</td>\n      <td>0.046035</td>\n      <td>0.049898</td>\n      <td>0.033045</td>\n      <td>0.071201</td>\n      <td>0.063361</td>\n      <td>0.070082</td>\n    </tr>\n    <tr>\n      <th>thld:0.020</th>\n      <td>0.032559</td>\n      <td>0.050397</td>\n      <td>0.049169</td>\n      <td>0.039212</td>\n      <td>0.043675</td>\n      <td>0.025158</td>\n      <td>0.058901</td>\n      <td>0.056961</td>\n      <td>0.05166</td>\n      <td>0.030543</td>\n      <td>0.038317</td>\n      <td>0.036484</td>\n      <td>0.077367</td>\n      <td>0.066978</td>\n      <td>0.073073</td>\n    </tr>\n    <tr>\n      <th>thld:0.025</th>\n      <td>0.024081</td>\n      <td>0.046324</td>\n      <td>0.040914</td>\n      <td>0.035929</td>\n      <td>0.038567</td>\n      <td>0.029982</td>\n      <td>0.061449</td>\n      <td>0.068193</td>\n      <td>0.056731</td>\n      <td>0.034267</td>\n      <td>0.043024</td>\n      <td>0.053702</td>\n      <td>0.086983</td>\n      <td>0.084358</td>\n      <td>0.080959</td>\n    </tr>\n    <tr>\n      <th>thld:0.030</th>\n      <td>0.021269</td>\n      <td>0.03982</td>\n      <td>0.036022</td>\n      <td>0.032001</td>\n      <td>0.035811</td>\n      <td>0.036774</td>\n      <td>0.059005</td>\n      <td>0.068111</td>\n      <td>0.048274</td>\n      <td>0.035332</td>\n      <td>0.052447</td>\n      <td>0.054333</td>\n      <td>0.090616</td>\n      <td>0.088619</td>\n      <td>0.099648</td>\n    </tr>\n    <tr>\n      <th>thld:0.035</th>\n      <td>0.018175</td>\n      <td>0.035246</td>\n      <td>0.030367</td>\n      <td>0.03766</td>\n      <td>0.035118</td>\n      <td>0.032877</td>\n      <td>0.049324</td>\n      <td>0.06093</td>\n      <td>0.043612</td>\n      <td>0.023353</td>\n      <td>0.03667</td>\n      <td>0.045962</td>\n      <td>0.064028</td>\n      <td>0.082526</td>\n      <td>0.084152</td>\n    </tr>\n    <tr>\n      <th>thld:0.040</th>\n      <td>0.013862</td>\n      <td>0.034184</td>\n      <td>0.021416</td>\n      <td>0.039328</td>\n      <td>0.031349</td>\n      <td>0.035062</td>\n      <td>0.048544</td>\n      <td>0.064225</td>\n      <td>0.059462</td>\n      <td>0.039006</td>\n      <td>0.037779</td>\n      <td>0.048018</td>\n      <td>0.082481</td>\n      <td>0.105813</td>\n      <td>0.108566</td>\n    </tr>\n    <tr>\n      <th>thld:0.045</th>\n      <td>0.011465</td>\n      <td>0.026424</td>\n      <td>0.019051</td>\n      <td>0.035003</td>\n      <td>0.029666</td>\n      <td>0.035158</td>\n      <td>0.051279</td>\n      <td>0.065071</td>\n      <td>0.051266</td>\n      <td>0.04536</td>\n      <td>0.046893</td>\n      <td>0.064477</td>\n      <td>0.100198</td>\n      <td>0.114836</td>\n      <td>0.124115</td>\n    </tr>\n    <tr>\n      <th>thld:0.050</th>\n      <td>0.006679</td>\n      <td>0.02363</td>\n      <td>0.012193</td>\n      <td>0.030459</td>\n      <td>0.032612</td>\n      <td>0.04619</td>\n      <td>0.071353</td>\n      <td>0.062203</td>\n      <td>0.057259</td>\n      <td>0.046109</td>\n      <td>0.063947</td>\n      <td>0.060402</td>\n      <td>0.100811</td>\n      <td>0.123178</td>\n      <td>0.119269</td>\n    </tr>\n    <tr>\n      <th>thld:0.100</th>\n      <td>0.004208</td>\n      <td>-0.0192</td>\n      <td>-0.022644</td>\n      <td>-0.039379</td>\n      <td>-0.00447</td>\n      <td>0.001439</td>\n      <td>0.047755</td>\n      <td>0.082483</td>\n      <td>0.074215</td>\n      <td>0.095339</td>\n      <td>0.094578</td>\n      <td>0.061556</td>\n      <td>0.141846</td>\n      <td>0.138726</td>\n      <td>0.172725</td>\n    </tr>\n  </tbody>\n</table>\n</div>"
     },
     "metadata": {},
     "output_type": "display_data"
    }
   ],
   "source": [
    "import numpy as np\n",
    "\n",
    "# Create a new empty DataFrame for effect sizes\n",
    "h_table = stat_table.copy()\n",
    "\n",
    "# Iterate over each cell in the DataFrame\n",
    "for i in range(pattern_wins.shape[0]):\n",
    "    for j in range(pattern_wins.shape[1]):\n",
    "        # Get the values for the corresponding cell in the original DataFrames\n",
    "        count_pattern = pattern_wins.iloc[i, j]\n",
    "        nobs_pattern = pattern_size.iloc[i, j]\n",
    "        count_random = random_wins.iloc[i, j]\n",
    "        nobs_random = random_size.iloc[i, j]\n",
    "\n",
    "        # Compute the proportions\n",
    "        prop_pattern = count_pattern / nobs_pattern\n",
    "        prop_random = count_random / nobs_random\n",
    "\n",
    "        # Compute Cohen's h for the effect size\n",
    "        h = 2 * np.arcsin(np.sqrt(prop_pattern)) - 2 * np.arcsin(np.sqrt(prop_random))\n",
    "\n",
    "        # Assign the effect size to the new table\n",
    "        h_table.iloc[i, j] = h\n",
    "\n",
    "# Print the new table\n",
    "display(h_table)\n"
   ],
   "metadata": {
    "collapsed": false,
    "ExecuteTime": {
     "end_time": "2023-06-27T07:14:11.641498Z",
     "start_time": "2023-06-27T07:14:11.597913Z"
    }
   }
  },
  {
   "cell_type": "markdown",
   "source": [
    "## More experimentation"
   ],
   "metadata": {
    "collapsed": false
   }
  },
  {
   "cell_type": "code",
   "execution_count": 47,
   "outputs": [
    {
     "data": {
      "text/plain": "            rng:3.00  rng:5.00  rng:7.00  rng:9.00  rng:11.00  rng:13.00   \nthld:0.015     50.02     50.12     50.38     49.68      50.01      49.34  \\\nthld:0.020     51.28     51.44     51.78     51.27      51.59      51.06   \nthld:0.025     51.89     52.18     52.59     52.18      52.23      52.31   \nthld:0.030     52.21     52.35     52.97     52.42      52.72      53.11   \nthld:0.035     52.45     52.53     53.13     53.17      53.07      53.44   \nthld:0.040     52.59     52.86     53.10     53.46      53.16      54.01   \nthld:0.045     52.67     52.79     53.22     53.56      53.29      54.41   \nthld:0.050     52.61     52.68     53.18     53.64      53.49      55.05   \nthld:0.100     53.30     52.31     52.68     52.31      53.71      53.93   \n\n            rng:15.00  rng:17.00  rng:19.00  rng:21.00  rng:23.00  rng:25.00   \nthld:0.015      51.12      50.43      50.34      49.71      49.92      49.12  \\\nthld:0.020      52.26      52.19      52.17      51.14      51.19      51.34   \nthld:0.025      53.40      53.63      53.43      52.36      52.33      53.10   \nthld:0.030      53.90      54.13      53.51      53.01      53.35      53.50   \nthld:0.035      54.11      54.35      53.66      52.79      53.10      53.59   \nthld:0.040      54.42      54.93      54.50      53.77      53.65      54.22   \nthld:0.045      54.82      55.02      54.43      54.28      54.30      55.38   \nthld:0.050      55.81      55.14      54.88      54.40      55.15      55.44   \nthld:0.100      56.17      57.53      56.87      57.88      58.47      56.82   \n\n            rng:27.00  rng:29.00  rng:31.00  \nthld:0.015      51.14      50.49      50.98  \nthld:0.020      53.28      52.38      53.19  \nthld:0.025      54.79      54.40      54.61  \nthld:0.030      55.59      55.30      56.11  \nthld:0.035      54.64      55.45      55.82  \nthld:0.040      55.89      57.00      57.33  \nthld:0.045      57.13      57.67      58.20  \nthld:0.050      57.33      58.22      57.90  \nthld:0.100      60.05      60.47      61.06  ",
      "text/html": "<div>\n<style scoped>\n    .dataframe tbody tr th:only-of-type {\n        vertical-align: middle;\n    }\n\n    .dataframe tbody tr th {\n        vertical-align: top;\n    }\n\n    .dataframe thead th {\n        text-align: right;\n    }\n</style>\n<table border=\"1\" class=\"dataframe\">\n  <thead>\n    <tr style=\"text-align: right;\">\n      <th></th>\n      <th>rng:3.00</th>\n      <th>rng:5.00</th>\n      <th>rng:7.00</th>\n      <th>rng:9.00</th>\n      <th>rng:11.00</th>\n      <th>rng:13.00</th>\n      <th>rng:15.00</th>\n      <th>rng:17.00</th>\n      <th>rng:19.00</th>\n      <th>rng:21.00</th>\n      <th>rng:23.00</th>\n      <th>rng:25.00</th>\n      <th>rng:27.00</th>\n      <th>rng:29.00</th>\n      <th>rng:31.00</th>\n    </tr>\n  </thead>\n  <tbody>\n    <tr>\n      <th>thld:0.015</th>\n      <td>50.02</td>\n      <td>50.12</td>\n      <td>50.38</td>\n      <td>49.68</td>\n      <td>50.01</td>\n      <td>49.34</td>\n      <td>51.12</td>\n      <td>50.43</td>\n      <td>50.34</td>\n      <td>49.71</td>\n      <td>49.92</td>\n      <td>49.12</td>\n      <td>51.14</td>\n      <td>50.49</td>\n      <td>50.98</td>\n    </tr>\n    <tr>\n      <th>thld:0.020</th>\n      <td>51.28</td>\n      <td>51.44</td>\n      <td>51.78</td>\n      <td>51.27</td>\n      <td>51.59</td>\n      <td>51.06</td>\n      <td>52.26</td>\n      <td>52.19</td>\n      <td>52.17</td>\n      <td>51.14</td>\n      <td>51.19</td>\n      <td>51.34</td>\n      <td>53.28</td>\n      <td>52.38</td>\n      <td>53.19</td>\n    </tr>\n    <tr>\n      <th>thld:0.025</th>\n      <td>51.89</td>\n      <td>52.18</td>\n      <td>52.59</td>\n      <td>52.18</td>\n      <td>52.23</td>\n      <td>52.31</td>\n      <td>53.40</td>\n      <td>53.63</td>\n      <td>53.43</td>\n      <td>52.36</td>\n      <td>52.33</td>\n      <td>53.10</td>\n      <td>54.79</td>\n      <td>54.40</td>\n      <td>54.61</td>\n    </tr>\n    <tr>\n      <th>thld:0.030</th>\n      <td>52.21</td>\n      <td>52.35</td>\n      <td>52.97</td>\n      <td>52.42</td>\n      <td>52.72</td>\n      <td>53.11</td>\n      <td>53.90</td>\n      <td>54.13</td>\n      <td>53.51</td>\n      <td>53.01</td>\n      <td>53.35</td>\n      <td>53.50</td>\n      <td>55.59</td>\n      <td>55.30</td>\n      <td>56.11</td>\n    </tr>\n    <tr>\n      <th>thld:0.035</th>\n      <td>52.45</td>\n      <td>52.53</td>\n      <td>53.13</td>\n      <td>53.17</td>\n      <td>53.07</td>\n      <td>53.44</td>\n      <td>54.11</td>\n      <td>54.35</td>\n      <td>53.66</td>\n      <td>52.79</td>\n      <td>53.10</td>\n      <td>53.59</td>\n      <td>54.64</td>\n      <td>55.45</td>\n      <td>55.82</td>\n    </tr>\n    <tr>\n      <th>thld:0.040</th>\n      <td>52.59</td>\n      <td>52.86</td>\n      <td>53.10</td>\n      <td>53.46</td>\n      <td>53.16</td>\n      <td>54.01</td>\n      <td>54.42</td>\n      <td>54.93</td>\n      <td>54.50</td>\n      <td>53.77</td>\n      <td>53.65</td>\n      <td>54.22</td>\n      <td>55.89</td>\n      <td>57.00</td>\n      <td>57.33</td>\n    </tr>\n    <tr>\n      <th>thld:0.045</th>\n      <td>52.67</td>\n      <td>52.79</td>\n      <td>53.22</td>\n      <td>53.56</td>\n      <td>53.29</td>\n      <td>54.41</td>\n      <td>54.82</td>\n      <td>55.02</td>\n      <td>54.43</td>\n      <td>54.28</td>\n      <td>54.30</td>\n      <td>55.38</td>\n      <td>57.13</td>\n      <td>57.67</td>\n      <td>58.20</td>\n    </tr>\n    <tr>\n      <th>thld:0.050</th>\n      <td>52.61</td>\n      <td>52.68</td>\n      <td>53.18</td>\n      <td>53.64</td>\n      <td>53.49</td>\n      <td>55.05</td>\n      <td>55.81</td>\n      <td>55.14</td>\n      <td>54.88</td>\n      <td>54.40</td>\n      <td>55.15</td>\n      <td>55.44</td>\n      <td>57.33</td>\n      <td>58.22</td>\n      <td>57.90</td>\n    </tr>\n    <tr>\n      <th>thld:0.100</th>\n      <td>53.30</td>\n      <td>52.31</td>\n      <td>52.68</td>\n      <td>52.31</td>\n      <td>53.71</td>\n      <td>53.93</td>\n      <td>56.17</td>\n      <td>57.53</td>\n      <td>56.87</td>\n      <td>57.88</td>\n      <td>58.47</td>\n      <td>56.82</td>\n      <td>60.05</td>\n      <td>60.47</td>\n      <td>61.06</td>\n    </tr>\n  </tbody>\n</table>\n</div>"
     },
     "metadata": {},
     "output_type": "display_data"
    },
    {
     "name": "stdout",
     "output_type": "stream",
     "text": [
      "~/Projects/strategy-evaluator/output_range_14/csv/balanced/by-range_barriers_double-bottom.csv\n"
     ]
    }
   ],
   "source": [
    "filename = f\"{csv_dir}/balanced/{table_name}_{eval_name}_{pattern_name}.csv\"\n",
    "df_pattern_perf = pd.read_csv(filename, delimiter=',', index_col=0)\n",
    "display(df_pattern_perf)\n",
    "print(filename)"
   ],
   "metadata": {
    "collapsed": false,
    "ExecuteTime": {
     "end_time": "2023-06-27T07:14:13.385128Z",
     "start_time": "2023-06-27T07:14:13.342209Z"
    }
   }
  },
  {
   "cell_type": "code",
   "execution_count": 48,
   "outputs": [
    {
     "data": {
      "text/plain": "            rng:3.00  rng:5.00  rng:7.00  rng:9.00  rng:11.00  rng:13.00   \nthld:0.015     47.59     46.75     47.62     47.38      47.58      48.07  \\\nthld:0.020     49.65     48.92     49.32     49.31      49.41      49.80   \nthld:0.025     50.69     49.86     50.55     50.38      50.31      50.81   \nthld:0.030     51.14     50.36     51.17     50.82      50.93      51.27   \nthld:0.035     51.54     50.77     51.61     51.29      51.32      51.80   \nthld:0.040     51.90     51.15     52.03     51.50      51.60      52.26   \nthld:0.045     52.10     51.47     52.27     51.81      51.80      52.66   \nthld:0.050     52.27     51.50     52.57     52.12      51.86      52.74   \nthld:0.100     53.09     53.27     53.81     54.27      53.93      53.86   \n\n            rng:15.00  rng:17.00  rng:19.00  rng:21.00  rng:23.00  rng:25.00   \nthld:0.015      47.48      47.15      47.73      47.41      47.42      47.47  \\\nthld:0.020      49.32      49.34      49.59      49.61      49.27      49.52   \nthld:0.025      50.33      50.22      50.59      50.65      50.18      50.42   \nthld:0.030      50.96      50.73      51.10      51.24      50.73      50.79   \nthld:0.035      51.65      51.31      51.48      51.62      51.27      51.30   \nthld:0.040      52.00      51.73      51.53      51.82      51.76      51.82   \nthld:0.045      52.26      51.77      51.87      52.01      51.97      52.16   \nthld:0.050      52.26      52.03      52.03      52.10      51.96      52.43   \nthld:0.100      53.79      53.43      53.18      53.14      53.78      53.76   \n\n            rng:27.00  rng:29.00  rng:31.00  \nthld:0.015      47.58      47.33      47.47  \nthld:0.020      49.41      49.03      49.54  \nthld:0.025      50.45      50.19      50.57  \nthld:0.030      51.07      50.88      51.14  \nthld:0.035      51.45      51.34      51.63  \nthld:0.040      51.78      51.73      51.92  \nthld:0.045      52.14      51.96      52.03  \nthld:0.050      52.32      52.10      51.97  \nthld:0.100      53.02      53.60      52.51  ",
      "text/html": "<div>\n<style scoped>\n    .dataframe tbody tr th:only-of-type {\n        vertical-align: middle;\n    }\n\n    .dataframe tbody tr th {\n        vertical-align: top;\n    }\n\n    .dataframe thead th {\n        text-align: right;\n    }\n</style>\n<table border=\"1\" class=\"dataframe\">\n  <thead>\n    <tr style=\"text-align: right;\">\n      <th></th>\n      <th>rng:3.00</th>\n      <th>rng:5.00</th>\n      <th>rng:7.00</th>\n      <th>rng:9.00</th>\n      <th>rng:11.00</th>\n      <th>rng:13.00</th>\n      <th>rng:15.00</th>\n      <th>rng:17.00</th>\n      <th>rng:19.00</th>\n      <th>rng:21.00</th>\n      <th>rng:23.00</th>\n      <th>rng:25.00</th>\n      <th>rng:27.00</th>\n      <th>rng:29.00</th>\n      <th>rng:31.00</th>\n    </tr>\n  </thead>\n  <tbody>\n    <tr>\n      <th>thld:0.015</th>\n      <td>47.59</td>\n      <td>46.75</td>\n      <td>47.62</td>\n      <td>47.38</td>\n      <td>47.58</td>\n      <td>48.07</td>\n      <td>47.48</td>\n      <td>47.15</td>\n      <td>47.73</td>\n      <td>47.41</td>\n      <td>47.42</td>\n      <td>47.47</td>\n      <td>47.58</td>\n      <td>47.33</td>\n      <td>47.47</td>\n    </tr>\n    <tr>\n      <th>thld:0.020</th>\n      <td>49.65</td>\n      <td>48.92</td>\n      <td>49.32</td>\n      <td>49.31</td>\n      <td>49.41</td>\n      <td>49.80</td>\n      <td>49.32</td>\n      <td>49.34</td>\n      <td>49.59</td>\n      <td>49.61</td>\n      <td>49.27</td>\n      <td>49.52</td>\n      <td>49.41</td>\n      <td>49.03</td>\n      <td>49.54</td>\n    </tr>\n    <tr>\n      <th>thld:0.025</th>\n      <td>50.69</td>\n      <td>49.86</td>\n      <td>50.55</td>\n      <td>50.38</td>\n      <td>50.31</td>\n      <td>50.81</td>\n      <td>50.33</td>\n      <td>50.22</td>\n      <td>50.59</td>\n      <td>50.65</td>\n      <td>50.18</td>\n      <td>50.42</td>\n      <td>50.45</td>\n      <td>50.19</td>\n      <td>50.57</td>\n    </tr>\n    <tr>\n      <th>thld:0.030</th>\n      <td>51.14</td>\n      <td>50.36</td>\n      <td>51.17</td>\n      <td>50.82</td>\n      <td>50.93</td>\n      <td>51.27</td>\n      <td>50.96</td>\n      <td>50.73</td>\n      <td>51.10</td>\n      <td>51.24</td>\n      <td>50.73</td>\n      <td>50.79</td>\n      <td>51.07</td>\n      <td>50.88</td>\n      <td>51.14</td>\n    </tr>\n    <tr>\n      <th>thld:0.035</th>\n      <td>51.54</td>\n      <td>50.77</td>\n      <td>51.61</td>\n      <td>51.29</td>\n      <td>51.32</td>\n      <td>51.80</td>\n      <td>51.65</td>\n      <td>51.31</td>\n      <td>51.48</td>\n      <td>51.62</td>\n      <td>51.27</td>\n      <td>51.30</td>\n      <td>51.45</td>\n      <td>51.34</td>\n      <td>51.63</td>\n    </tr>\n    <tr>\n      <th>thld:0.040</th>\n      <td>51.90</td>\n      <td>51.15</td>\n      <td>52.03</td>\n      <td>51.50</td>\n      <td>51.60</td>\n      <td>52.26</td>\n      <td>52.00</td>\n      <td>51.73</td>\n      <td>51.53</td>\n      <td>51.82</td>\n      <td>51.76</td>\n      <td>51.82</td>\n      <td>51.78</td>\n      <td>51.73</td>\n      <td>51.92</td>\n    </tr>\n    <tr>\n      <th>thld:0.045</th>\n      <td>52.10</td>\n      <td>51.47</td>\n      <td>52.27</td>\n      <td>51.81</td>\n      <td>51.80</td>\n      <td>52.66</td>\n      <td>52.26</td>\n      <td>51.77</td>\n      <td>51.87</td>\n      <td>52.01</td>\n      <td>51.97</td>\n      <td>52.16</td>\n      <td>52.14</td>\n      <td>51.96</td>\n      <td>52.03</td>\n    </tr>\n    <tr>\n      <th>thld:0.050</th>\n      <td>52.27</td>\n      <td>51.50</td>\n      <td>52.57</td>\n      <td>52.12</td>\n      <td>51.86</td>\n      <td>52.74</td>\n      <td>52.26</td>\n      <td>52.03</td>\n      <td>52.03</td>\n      <td>52.10</td>\n      <td>51.96</td>\n      <td>52.43</td>\n      <td>52.32</td>\n      <td>52.10</td>\n      <td>51.97</td>\n    </tr>\n    <tr>\n      <th>thld:0.100</th>\n      <td>53.09</td>\n      <td>53.27</td>\n      <td>53.81</td>\n      <td>54.27</td>\n      <td>53.93</td>\n      <td>53.86</td>\n      <td>53.79</td>\n      <td>53.43</td>\n      <td>53.18</td>\n      <td>53.14</td>\n      <td>53.78</td>\n      <td>53.76</td>\n      <td>53.02</td>\n      <td>53.60</td>\n      <td>52.51</td>\n    </tr>\n  </tbody>\n</table>\n</div>"
     },
     "metadata": {},
     "output_type": "display_data"
    },
    {
     "name": "stdout",
     "output_type": "stream",
     "text": [
      "~/Projects/strategy-evaluator/output_range_14/csv/balanced/by-range_barriers_random.csv\n"
     ]
    }
   ],
   "source": [
    "filename = f\"{csv_dir}/balanced/{table_name}_{eval_name}_random.csv\"\n",
    "df_random_perf = pd.read_csv(filename, delimiter=',', index_col=0)\n",
    "display(df_random_perf)\n",
    "print(filename)"
   ],
   "metadata": {
    "collapsed": false,
    "ExecuteTime": {
     "end_time": "2023-06-27T07:14:14.090806Z",
     "start_time": "2023-06-27T07:14:14.072437Z"
    }
   }
  },
  {
   "cell_type": "code",
   "execution_count": 49,
   "outputs": [
    {
     "data": {
      "text/plain": "WilcoxonResult(statistic=77.0, pvalue=3.698382201910919e-23)"
     },
     "execution_count": 49,
     "metadata": {},
     "output_type": "execute_result"
    }
   ],
   "source": [
    "from scipy.stats import wilcoxon\n",
    "\n",
    "df_diff = df_pattern_perf - df_random_perf\n",
    "diff_values = df_diff.values.flatten()\n",
    "\n",
    "result = wilcoxon(diff_values)\n",
    "result"
   ],
   "metadata": {
    "collapsed": false,
    "ExecuteTime": {
     "end_time": "2023-06-27T07:14:14.581016Z",
     "start_time": "2023-06-27T07:14:14.578497Z"
    }
   }
  },
  {
   "cell_type": "code",
   "execution_count": 50,
   "outputs": [
    {
     "data": {
      "text/plain": "<Figure size 640x480 with 1 Axes>",
      "image/png": "[encoded data removed]"
     },
     "metadata": {},
     "output_type": "display_data"
    }
   ],
   "source": [
    "import pandas as pd\n",
    "import numpy as np\n",
    "import matplotlib.pyplot as plt\n",
    "flattened_array = df_random_perf.values.flatten()\n",
    "plt.hist(flattened_array, bins='auto')\n",
    "plt.show()"
   ],
   "metadata": {
    "collapsed": false,
    "ExecuteTime": {
     "end_time": "2023-06-27T07:14:15.607145Z",
     "start_time": "2023-06-27T07:14:14.943263Z"
    }
   }
  },
  {
   "cell_type": "code",
   "execution_count": 51,
   "outputs": [
    {
     "data": {
      "text/plain": "<Figure size 640x480 with 1 Axes>",
      "image/png": "[encoded data removed]"
     },
     "metadata": {},
     "output_type": "display_data"
    }
   ],
   "source": [
    "import matplotlib.pyplot as plt\n",
    "\n",
    "# Calculate the differences\n",
    "df_diff = df_pattern_perf - df_random_perf\n",
    "\n",
    "# Flatten the dataframe into a 1D array\n",
    "diff_values = df_diff.values.flatten()\n",
    "\n",
    "# Plot a histogram\n",
    "plt.hist(diff_values, bins=40, edgecolor='black')\n",
    "plt.title(\"Histogram of differences\")\n",
    "plt.xlabel(\"Difference\")\n",
    "plt.ylabel(\"Frequency\")\n",
    "plt.show()"
   ],
   "metadata": {
    "collapsed": false,
    "ExecuteTime": {
     "end_time": "2023-06-27T07:14:16.247491Z",
     "start_time": "2023-06-27T07:14:16.145019Z"
    }
   }
  },
  {
   "cell_type": "code",
   "execution_count": null,
   "outputs": [],
   "source": [],
   "metadata": {
    "collapsed": false
   }
  }
 ],
 "metadata": {
  "kernelspec": {
   "display_name": "Python 3",
   "language": "python",
   "name": "python3"
  },
  "language_info": {
   "codemirror_mode": {
    "name": "ipython",
    "version": 2
   },
   "file_extension": ".py",
   "mimetype": "text/x-python",
   "name": "python",
   "nbconvert_exporter": "python",
   "pygments_lexer": "ipython2",
   "version": "2.7.6"
  }
 },
 "nbformat": 4,
 "nbformat_minor": 0
}
